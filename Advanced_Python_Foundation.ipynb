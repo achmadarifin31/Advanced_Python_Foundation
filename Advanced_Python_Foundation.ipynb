{
  "nbformat": 4,
  "nbformat_minor": 0,
  "metadata": {
    "colab": {
      "provenance": []
    },
    "kernelspec": {
      "name": "python3",
      "display_name": "Python 3"
    },
    "language_info": {
      "name": "python"
    }
  },
  "cells": [
    {
      "cell_type": "markdown",
      "source": [
        "## **Inputs & Outputs**"
      ],
      "metadata": {
        "id": "MGAA1b6L1cbi"
      }
    },
    {
      "cell_type": "markdown",
      "source": [
        "Inputs\n",
        "*   Data atau nilai yang diberikan kepada sebuah program.\n",
        "*   Dapat dimasukkan oleh user, dibaca dari sebuah file, atau diperoleh dari sumber lain.\n",
        "\n",
        "Outputs\n",
        "*   Hasil atau informasi yang dihasilkan oleh program.\n",
        "*   Dapat ditampilkan di layar, ditulis ke file, atau dikirim ke sistem lain.\n",
        "*   Mewakili hasil akhir program dan menyediakan pengguna atau program lain dengan informasi atau hasil yang diinginkan.\n",
        "\n",
        "\n",
        "\n"
      ],
      "metadata": {
        "id": "1ZqZr9a_9K_1"
      }
    },
    {
      "cell_type": "code",
      "execution_count": 2,
      "metadata": {
        "colab": {
          "base_uri": "https://localhost:8080/"
        },
        "id": "QcfhzACS0zAH",
        "outputId": "5ba87d14-e423-4e99-eef1-ea688fa8fc4d"
      },
      "outputs": [
        {
          "output_type": "stream",
          "name": "stdout",
          "text": [
            "Masukkan nama anda: Afin\n",
            "Halo, Afin! Selamat Belajar Python!\n"
          ]
        }
      ],
      "source": [
        "# Contoh dari User\n",
        "# Menerima Input dari User\n",
        "name = input('Masukkan nama anda: ')\n",
        "\n",
        "# Mengeluarkan Output ditampilkan ke layar\n",
        "print('Halo, ' + name + '! Selamat Belajar Python!')"
      ]
    },
    {
      "cell_type": "code",
      "source": [
        "# Contoh dari File\n",
        "lokasi_file = '/content/sample_data/baca_file.txt'\n",
        "with open(lokasi_file, 'r') as file:\n",
        "  file_content = file.read()\n",
        "  print(\"Isi dari file adalah:\", file_content)"
      ],
      "metadata": {
        "colab": {
          "base_uri": "https://localhost:8080/"
        },
        "id": "pEpRuRk6_LXd",
        "outputId": "7ccc1066-384c-4b77-ea8a-66ef07bd7b78"
      },
      "execution_count": 3,
      "outputs": [
        {
          "output_type": "stream",
          "name": "stdout",
          "text": [
            "Isi dari file adalah: Selamat! Anda berhasil membaca input dari file\n"
          ]
        }
      ]
    },
    {
      "cell_type": "code",
      "source": [
        "# Contoh menulis output dalam file\n",
        "output_data = \"Kita ingin menulis kedalam file\"\n",
        "lokasi_file_output = '/content/sample_data/output_file.txt'\n",
        "\n",
        "with open(lokasi_file_output, 'w') as output_file:\n",
        "  output_file.write(output_data)"
      ],
      "metadata": {
        "id": "OKuwD3W-BXHw"
      },
      "execution_count": 4,
      "outputs": []
    },
    {
      "cell_type": "markdown",
      "source": [
        "Catatan\n",
        "*   Tipe data input dari user dengan *function* input() adalah string atau str.\n",
        "*   Jika ingin user untuk menginput contohnya bilangan bulat, maka kita harus melakukan konversi terhadap data input tersebut.\n"
      ],
      "metadata": {
        "id": "0DaAux9gF3zH"
      }
    },
    {
      "cell_type": "code",
      "source": [
        "umur = input('Berapa umur anda:')\n",
        "print(type(umur))"
      ],
      "metadata": {
        "colab": {
          "base_uri": "https://localhost:8080/"
        },
        "id": "soeKz08eCY9p",
        "outputId": "f43d01e1-1928-4c2d-9870-cd1fc7cf2b1f"
      },
      "execution_count": 5,
      "outputs": [
        {
          "output_type": "stream",
          "name": "stdout",
          "text": [
            "Berapa umur anda:21\n",
            "<class 'str'>\n"
          ]
        }
      ]
    },
    {
      "cell_type": "code",
      "source": [
        "# Untuk memastikan menjadi bilangan bulat, maka berikan konversi data diluar input\n",
        "umur = int(input('Berapa umur anda:'))\n",
        "print(type(umur))"
      ],
      "metadata": {
        "colab": {
          "base_uri": "https://localhost:8080/"
        },
        "id": "pfB_9IUWGWy8",
        "outputId": "8234ad3b-27f9-46cd-a92b-02d45cd9a131"
      },
      "execution_count": 6,
      "outputs": [
        {
          "output_type": "stream",
          "name": "stdout",
          "text": [
            "Berapa umur anda:21\n",
            "<class 'int'>\n"
          ]
        }
      ]
    },
    {
      "cell_type": "markdown",
      "source": [
        "### **Loop**"
      ],
      "metadata": {
        "id": "qATTQvhHG2Dd"
      }
    },
    {
      "cell_type": "markdown",
      "source": [
        "Pernahkah?\n",
        "*   Mendengarkan lagu favorit berulang-ulang.\n",
        "*   Pergi ke kantor atau kampus menempuh rute yang sama setiap hari.\n",
        "*   Berulang kali menunggu hari gajian, tetapi ketika sudah gajian cuma numpang lewat doang.\n",
        "\n",
        "Dalam pemrograman, fenomena di atas bisa dikerjakan karena adanya *iteration* atau *loop*.\n",
        "\n",
        "\n"
      ],
      "metadata": {
        "id": "uMx17AljG8v1"
      }
    },
    {
      "cell_type": "markdown",
      "source": [
        "Loop digunakan untuk mengulangi urutan (yaitu list, tuple, dictionary, set, atau string)\n",
        "\n",
        "Python memiliki dua perintah loop yang umum:\n",
        "*   While loop\n",
        "    indefinite iteration - pengulangan sampai suatu syarat terpenuhi\n",
        "*   For loop\n",
        "    definite iteration - pengulangan dengan jumlah pengulangan yang didefinisikan terlebih dahulu\n"
      ],
      "metadata": {
        "id": "mohT7JhnG6kh"
      }
    },
    {
      "cell_type": "code",
      "source": [
        "# Mengeksekusi satu set pernyataan selama kondisinya benar\n",
        "i = 1\n",
        "while i < 6:\n",
        "  print(i)\n",
        "  i += 1\n",
        "\n",
        "# Catatan: ingat untuk menambah/mengurangi variable sesuai kondisi, atau loop akan berlanjut selamanya"
      ],
      "metadata": {
        "colab": {
          "base_uri": "https://localhost:8080/"
        },
        "id": "cNVE3HacGlh9",
        "outputId": "b6f6b9e2-94a9-4c2a-b31c-8fb46b3a037e"
      },
      "execution_count": 8,
      "outputs": [
        {
          "output_type": "stream",
          "name": "stdout",
          "text": [
            "1\n",
            "2\n",
            "3\n",
            "4\n",
            "5\n"
          ]
        }
      ]
    },
    {
      "cell_type": "markdown",
      "source": [
        "### **FOR LOOP**"
      ],
      "metadata": {
        "id": "lt5-Dzu0MIup"
      }
    },
    {
      "cell_type": "code",
      "source": [
        "# membuat iterator untuk mengeksekusi perintah dari satu set list, tuple, set, range, dll.\n",
        "# eksekusi sebanyak satu kali\n",
        "\n",
        "for x in \"banana\":\n",
        "  print(x)"
      ],
      "metadata": {
        "colab": {
          "base_uri": "https://localhost:8080/"
        },
        "id": "RQg3WvCgHp0p",
        "outputId": "edd8b27d-765a-44ba-e57e-49f8d7a4bbe1"
      },
      "execution_count": 9,
      "outputs": [
        {
          "output_type": "stream",
          "name": "stdout",
          "text": [
            "b\n",
            "a\n",
            "n\n",
            "a\n",
            "n\n",
            "a\n"
          ]
        }
      ]
    },
    {
      "cell_type": "code",
      "source": [
        "for x in range(1,6):\n",
        "  print(x)"
      ],
      "metadata": {
        "colab": {
          "base_uri": "https://localhost:8080/"
        },
        "id": "C8-7A8A0KBed",
        "outputId": "dfa87853-8f92-4554-a0c0-8917d5ec9f29"
      },
      "execution_count": 10,
      "outputs": [
        {
          "output_type": "stream",
          "name": "stdout",
          "text": [
            "1\n",
            "2\n",
            "3\n",
            "4\n",
            "5\n"
          ]
        }
      ]
    },
    {
      "cell_type": "code",
      "source": [
        "range(akhir) # start from 0 end at akhir -1\n",
        "range(awal, akhir) # start from awal, end at akhir\n",
        "range(awal, akhir, jarak) # start from awal, end at akhir, at interval = jarak"
      ],
      "metadata": {
        "id": "8dnUUpuYPphm"
      },
      "execution_count": null,
      "outputs": []
    },
    {
      "cell_type": "code",
      "source": [
        "for x in range(1,10,2): #range(awal, akhir, jarak)\n",
        "  print(x)"
      ],
      "metadata": {
        "colab": {
          "base_uri": "https://localhost:8080/"
        },
        "id": "lr1WjA3TP4Kc",
        "outputId": "4aebfcc2-e042-4679-fdd5-8e1c639fab72"
      },
      "execution_count": 18,
      "outputs": [
        {
          "output_type": "stream",
          "name": "stdout",
          "text": [
            "1\n",
            "3\n",
            "5\n",
            "7\n",
            "9\n"
          ]
        }
      ]
    },
    {
      "cell_type": "code",
      "source": [
        "list_buah = ['apel', 'pisang', 'melon', 'durian']\n",
        "for buah in list_buah:\n",
        "  print(buah)"
      ],
      "metadata": {
        "colab": {
          "base_uri": "https://localhost:8080/"
        },
        "id": "pDJ6vrtwKFvI",
        "outputId": "aff28221-17a1-4938-9146-6ca1b803d438"
      },
      "execution_count": 11,
      "outputs": [
        {
          "output_type": "stream",
          "name": "stdout",
          "text": [
            "apel\n",
            "pisang\n",
            "melon\n",
            "durian\n"
          ]
        }
      ]
    },
    {
      "cell_type": "markdown",
      "source": [
        "### **NESTED LOOP**"
      ],
      "metadata": {
        "id": "4Yi_bXeQMNSg"
      }
    },
    {
      "cell_type": "code",
      "source": [
        "# Loop yang ada didalam loop\n",
        "# Program menyelesaikan loop terdalam dahulu lalu melanjutkan loop terluar\n",
        "\n",
        "for x in \"banana\":\n",
        "\n",
        "  for y in range(6):\n",
        "    print(x, end = \" \")\n",
        "\n",
        "  print(\"\")\n",
        "\n",
        "print(\"end of code\")"
      ],
      "metadata": {
        "colab": {
          "base_uri": "https://localhost:8080/"
        },
        "id": "4fmgNkfnKQiY",
        "outputId": "3970462c-b7bb-46b3-e254-a2bee6fa0e53"
      },
      "execution_count": 12,
      "outputs": [
        {
          "output_type": "stream",
          "name": "stdout",
          "text": [
            "b b b b b b \n",
            "a a a a a a \n",
            "n n n n n n \n",
            "a a a a a a \n",
            "n n n n n n \n",
            "a a a a a a \n",
            "end of code\n"
          ]
        }
      ]
    },
    {
      "cell_type": "code",
      "source": [
        "for i in range(5): # I dari 0 s/d 4\n",
        "  for j in ['a', 'b', 'c']: # J akan mengakses setiap value dalam list\n",
        "    print(i,j)"
      ],
      "metadata": {
        "colab": {
          "base_uri": "https://localhost:8080/"
        },
        "id": "gnS3fpb3Lu6V",
        "outputId": "aa805874-7c79-4ebd-9cd1-a0b31ebff3d9"
      },
      "execution_count": 13,
      "outputs": [
        {
          "output_type": "stream",
          "name": "stdout",
          "text": [
            "0 a\n",
            "0 b\n",
            "0 c\n",
            "1 a\n",
            "1 b\n",
            "1 c\n",
            "2 a\n",
            "2 b\n",
            "2 c\n",
            "3 a\n",
            "3 b\n",
            "3 c\n",
            "4 a\n",
            "4 b\n",
            "4 c\n"
          ]
        }
      ]
    },
    {
      "cell_type": "code",
      "source": [
        "for i in range(1,11):\n",
        "  for j in range(1,11):\n",
        "    print(i*j, end=' ')\n",
        "  print()"
      ],
      "metadata": {
        "colab": {
          "base_uri": "https://localhost:8080/"
        },
        "id": "RLKtNTSkM09k",
        "outputId": "4bbf2998-3e3e-4f6f-e5d0-653d8d7a0975"
      },
      "execution_count": 14,
      "outputs": [
        {
          "output_type": "stream",
          "name": "stdout",
          "text": [
            "1 2 3 4 5 6 7 8 9 10 \n",
            "2 4 6 8 10 12 14 16 18 20 \n",
            "3 6 9 12 15 18 21 24 27 30 \n",
            "4 8 12 16 20 24 28 32 36 40 \n",
            "5 10 15 20 25 30 35 40 45 50 \n",
            "6 12 18 24 30 36 42 48 54 60 \n",
            "7 14 21 28 35 42 49 56 63 70 \n",
            "8 16 24 32 40 48 56 64 72 80 \n",
            "9 18 27 36 45 54 63 72 81 90 \n",
            "10 20 30 40 50 60 70 80 90 100 \n"
          ]
        }
      ]
    },
    {
      "cell_type": "markdown",
      "source": [
        "### **Fungsi Control**"
      ],
      "metadata": {
        "id": "fJWiryy7JDkx"
      }
    },
    {
      "cell_type": "markdown",
      "source": [
        "Kegunaan = mengontrol jalannya loop (memberi perintah berhenti, lanjutkan, atau abaikan)\n",
        "\n",
        "Fungsi Control = Break, Continue, Pass"
      ],
      "metadata": {
        "id": "dUlmO4Y8NhgV"
      }
    },
    {
      "cell_type": "code",
      "source": [
        "# Break\n",
        "# berfungsi memberhentikan proses loop\n",
        "\n",
        "for x in range(1,6):\n",
        "  if (x==3):\n",
        "    break\n",
        "  else:\n",
        "    print(x)"
      ],
      "metadata": {
        "colab": {
          "base_uri": "https://localhost:8080/"
        },
        "id": "_jHDgAxYNBIb",
        "outputId": "9225154e-5478-4074-8b52-f2a6c8bbf8d4"
      },
      "execution_count": 15,
      "outputs": [
        {
          "output_type": "stream",
          "name": "stdout",
          "text": [
            "1\n",
            "2\n"
          ]
        }
      ]
    },
    {
      "cell_type": "code",
      "source": [
        "# Continue\n",
        "# berfungsi memberhentikan proses saat ini kemudian melanjutkannya kembali di loop selanjutnya\n",
        "# jika dikombinasikan dengan fungsi kondisi if bisa digunakan untuk melewatkan 1 putaran loop\n",
        "\n",
        "for x in range(1,6):\n",
        "  if (x==3):\n",
        "    continue\n",
        "  else:\n",
        "    print(x)"
      ],
      "metadata": {
        "colab": {
          "base_uri": "https://localhost:8080/"
        },
        "id": "dDUq5riOOLgW",
        "outputId": "df205b0f-1cec-417f-9725-f83224916a9d"
      },
      "execution_count": 16,
      "outputs": [
        {
          "output_type": "stream",
          "name": "stdout",
          "text": [
            "1\n",
            "2\n",
            "4\n",
            "5\n"
          ]
        }
      ]
    },
    {
      "cell_type": "code",
      "source": [
        "# Pass\n",
        "# fungsi loop tidak boleh kosong\n",
        "# jika karena alasan tertentu kita harus memiliki for loop tanpa konten, memasukkan pernyataan pass untuk menghindari kesalahan\n",
        "\n",
        "for x in range(1,6):\n",
        "  pass"
      ],
      "metadata": {
        "id": "h2nbQRqxOuTk"
      },
      "execution_count": 17,
      "outputs": []
    },
    {
      "cell_type": "markdown",
      "source": [
        "### **Quiz 1 Advance Python Foundation**"
      ],
      "metadata": {
        "id": "k-QhHm8_QJGl"
      }
    },
    {
      "cell_type": "code",
      "source": [
        "for i in range(2, 8, 2):\n",
        "  print(i)"
      ],
      "metadata": {
        "colab": {
          "base_uri": "https://localhost:8080/"
        },
        "id": "Jpx1vVMXPJQY",
        "outputId": "4e764b00-c0f7-4b7f-ec1f-7d4c95d6ad63"
      },
      "execution_count": 19,
      "outputs": [
        {
          "output_type": "stream",
          "name": "stdout",
          "text": [
            "2\n",
            "4\n",
            "6\n"
          ]
        }
      ]
    },
    {
      "cell_type": "markdown",
      "source": [
        "### **Flowchart**"
      ],
      "metadata": {
        "id": "fVvpnKlRQtU7"
      }
    },
    {
      "cell_type": "markdown",
      "source": [
        "*   Representasi grafis algoritma yang digunakan oleh programmer sebagai alat perencanaan program.\n",
        "*   Simbol-simbolnya saling terhubung untuk menunjukkan alur informasi dan pemrosesan.\n",
        "*   Proses pembuatan flowchart disebut *flowcharting*.\n",
        "\n",
        "\n"
      ],
      "metadata": {
        "id": "ROX4H-nlQyF5"
      }
    },
    {
      "cell_type": "markdown",
      "source": [
        "### **Functional Programming**"
      ],
      "metadata": {
        "id": "Y7RRXYlcRKMJ"
      }
    },
    {
      "cell_type": "markdown",
      "source": [
        "Fungsi dalam istilah matematika merupakan pemetaan setiap anggota sebuah himpunan kepada anggota himpunan yang lain.\n",
        "Langkah-langkah yang memiliki:\n",
        "*   masukan\n",
        "*   urutan proses, dan\n",
        "*   keluaran.\n",
        "\n",
        "\n"
      ],
      "metadata": {
        "id": "0DgoNKbfRyBP"
      }
    },
    {
      "cell_type": "markdown",
      "source": [
        "***Functional programming*** adalah paradigma pemrograman yang berkutat pada komputasi yang terjadi di dalam fungsi matematis dan menghindari terjadinya perubahan data.\n",
        "Keunggulan Pemrograman Fungsional:\n",
        "*   Menggunakan fungsi dapat **menyederhanakan kode**.\n",
        "*   **Memisahkan setiap alur kerja** sesuai fungsinya. Contohnya, bersihkan data, panggil data dari csv, dll.\n",
        "*   Memudahkan kita untuk **fokus pada pemecahan masalah**, daripada men-debug proses yang sama berulang kali.\n",
        "*   Setiap masalah atau kesalahan **mudah dilacak**.\n",
        "\n"
      ],
      "metadata": {
        "id": "CygyepWQSMt2"
      }
    },
    {
      "cell_type": "code",
      "source": [
        "# Struktur Fungsi dalam Python\n",
        "\n",
        "def wealth_estimator(money):    # def   nama fungsi   variable fungsi\n",
        "\n",
        "  if money>=1000000:  # proses dan instruksi program\n",
        "    status=\"You are above 1%\"\n",
        "\n",
        "  elif money<1000000 and money<=100: # proses dan instruksi program\n",
        "    status=\"You are in middle class\"\n",
        "\n",
        "  else: # proses dan instruksi program\n",
        "    status=\"You are poor\"\n",
        "\n",
        "  return status # output return"
      ],
      "metadata": {
        "id": "hQPVPJVyQab-"
      },
      "execution_count": 22,
      "outputs": []
    },
    {
      "cell_type": "markdown",
      "source": [
        "### **Global & Local Variable**"
      ],
      "metadata": {
        "id": "JQ0m0wjDUCoq"
      }
    },
    {
      "cell_type": "code",
      "source": [
        "# Global Variable\n",
        "x = 'keren!'\n",
        "def fungsi1():\n",
        "  print('Python itu' + x)\n",
        "\n",
        "fungsi1()"
      ],
      "metadata": {
        "colab": {
          "base_uri": "https://localhost:8080/"
        },
        "id": "3ZFekEhZTTVB",
        "outputId": "a408eeb0-a61d-4b09-996d-0f92561f6ff1"
      },
      "execution_count": 24,
      "outputs": [
        {
          "output_type": "stream",
          "name": "stdout",
          "text": [
            "Python itukeren!\n"
          ]
        }
      ]
    },
    {
      "cell_type": "code",
      "source": [
        "print(x)"
      ],
      "metadata": {
        "colab": {
          "base_uri": "https://localhost:8080/"
        },
        "id": "YbhC4nMVUakX",
        "outputId": "ffa3a2fe-7108-40a7-8c68-35c4a5dd7384"
      },
      "execution_count": 25,
      "outputs": [
        {
          "output_type": "stream",
          "name": "stdout",
          "text": [
            "keren!\n"
          ]
        }
      ]
    },
    {
      "cell_type": "code",
      "source": [
        "# Local Variable\n",
        "def fungsi2():\n",
        "  nama = ' Agus '\n",
        "  print('Nama saya' + nama)\n",
        "\n",
        "fungsi2()"
      ],
      "metadata": {
        "colab": {
          "base_uri": "https://localhost:8080/"
        },
        "id": "Kge3F25OUek7",
        "outputId": "44a7e4f6-3e9c-439d-c6a1-aa9d70c4b5e7"
      },
      "execution_count": 27,
      "outputs": [
        {
          "output_type": "stream",
          "name": "stdout",
          "text": [
            "Nama saya Agus \n"
          ]
        }
      ]
    },
    {
      "cell_type": "code",
      "source": [
        "print(nama) # Variable tidak berfungsi karena hanya berfungsi pada fungsi2 pada local variable"
      ],
      "metadata": {
        "colab": {
          "base_uri": "https://localhost:8080/",
          "height": 141
        },
        "id": "qfppxmZ6UXVw",
        "outputId": "70402550-2b8b-4219-d64b-d410d54c270a"
      },
      "execution_count": 28,
      "outputs": [
        {
          "output_type": "error",
          "ename": "NameError",
          "evalue": "name 'nama' is not defined",
          "traceback": [
            "\u001b[0;31m---------------------------------------------------------------------------\u001b[0m",
            "\u001b[0;31mNameError\u001b[0m                                 Traceback (most recent call last)",
            "\u001b[0;32m<ipython-input-28-3a9484408404>\u001b[0m in \u001b[0;36m<cell line: 1>\u001b[0;34m()\u001b[0m\n\u001b[0;32m----> 1\u001b[0;31m \u001b[0mprint\u001b[0m\u001b[0;34m(\u001b[0m\u001b[0mnama\u001b[0m\u001b[0;34m)\u001b[0m\u001b[0;34m\u001b[0m\u001b[0;34m\u001b[0m\u001b[0m\n\u001b[0m",
            "\u001b[0;31mNameError\u001b[0m: name 'nama' is not defined"
          ]
        }
      ]
    },
    {
      "cell_type": "code",
      "source": [
        "def luas_persegi(sisi):\n",
        "  luas = sisi * sisi\n",
        "  return luas"
      ],
      "metadata": {
        "id": "lq8zBCBgVCEQ"
      },
      "execution_count": 29,
      "outputs": []
    },
    {
      "cell_type": "code",
      "source": [
        "persegi1 = luas_persegi(5)\n",
        "print(persegi1)"
      ],
      "metadata": {
        "colab": {
          "base_uri": "https://localhost:8080/"
        },
        "id": "OZVkcxWlVHdS",
        "outputId": "fc2ff557-ae3a-4b7e-d2ca-1edca187fe35"
      },
      "execution_count": 31,
      "outputs": [
        {
          "output_type": "stream",
          "name": "stdout",
          "text": [
            "25\n"
          ]
        }
      ]
    },
    {
      "cell_type": "markdown",
      "source": [
        "### **Quiz 2 Advance Python Foundation From Startup Campus**"
      ],
      "metadata": {
        "id": "5LSp0vJRVcrI"
      }
    },
    {
      "cell_type": "code",
      "source": [
        "numbers = [1, 2, 3, 4, 5]\n",
        "def square(x):\n",
        "  return x**2\n",
        "squared_numbers = [square(num) for num in numbers]\n",
        "print(squared_numbers)"
      ],
      "metadata": {
        "colab": {
          "base_uri": "https://localhost:8080/"
        },
        "id": "WYlwWZLNUy97",
        "outputId": "1dd9822b-92c3-4880-9277-f5b8d6550c5d"
      },
      "execution_count": 32,
      "outputs": [
        {
          "output_type": "stream",
          "name": "stdout",
          "text": [
            "[1, 4, 9, 16, 25]\n"
          ]
        }
      ]
    },
    {
      "cell_type": "markdown",
      "source": [
        "### **Array & NumPy Library**"
      ],
      "metadata": {
        "id": "5v_EAWSWV_FR"
      }
    },
    {
      "cell_type": "markdown",
      "source": [
        "Library adalah kode eksternal yang dapat diimpor ke dalam project kita.\n",
        "Library adalah kumpulan kode yang dibuat oleh seseorang, komunitas, atau perusahaan."
      ],
      "metadata": {
        "id": "G0i2AvAlWE3w"
      }
    },
    {
      "cell_type": "markdown",
      "source": [
        "NumPy (Numerical Python) adalah library yang ada di Python dan digunakan untuk membuat array. Dibuat pada tahun 2005 oleh Travis Oliphant.\n",
        "\n",
        "Keuntungan:\n",
        "*   Lebih cepat dari List yang ada di Python.\n",
        "*   Menggunakan lebih sedikit memori untuk menyimpan data\n",
        "*   Bisa digunakan untuk membuat array n-dimensi\n",
        "*   Bisa melakukan operasi matematika pada array n-dimensi\n",
        "\n",
        "\n",
        "\n"
      ],
      "metadata": {
        "id": "YHIGF6KaWgP-"
      }
    },
    {
      "cell_type": "code",
      "source": [
        "# Menginstall numpy\n",
        "\n",
        "!pip install numpy"
      ],
      "metadata": {
        "colab": {
          "base_uri": "https://localhost:8080/"
        },
        "id": "oLZnvQWjVydF",
        "outputId": "f7668ef2-79b4-40c2-8069-0c746e494984"
      },
      "execution_count": 1,
      "outputs": [
        {
          "output_type": "stream",
          "name": "stdout",
          "text": [
            "Requirement already satisfied: numpy in /usr/local/lib/python3.10/dist-packages (1.26.4)\n"
          ]
        }
      ]
    },
    {
      "cell_type": "code",
      "source": [
        "# Mengimport numpy\n",
        "\n",
        "import numpy\n",
        "numpy.__version__"
      ],
      "metadata": {
        "colab": {
          "base_uri": "https://localhost:8080/",
          "height": 35
        },
        "id": "au4O0kaTX_r7",
        "outputId": "69c6ef90-df6e-4e2d-9630-72d87f180301"
      },
      "execution_count": 7,
      "outputs": [
        {
          "output_type": "execute_result",
          "data": {
            "text/plain": [
              "'1.26.4'"
            ],
            "application/vnd.google.colaboratory.intrinsic+json": {
              "type": "string"
            }
          },
          "metadata": {},
          "execution_count": 7
        }
      ]
    },
    {
      "cell_type": "code",
      "source": [
        "# Mengimport numpy sebagai inisial\n",
        "\n",
        "import numpy as np\n",
        "np.__version__"
      ],
      "metadata": {
        "colab": {
          "base_uri": "https://localhost:8080/",
          "height": 35
        },
        "id": "g-fd3RWoYGge",
        "outputId": "dd679ab8-fce2-422a-c64b-44f13790b05e"
      },
      "execution_count": 8,
      "outputs": [
        {
          "output_type": "execute_result",
          "data": {
            "text/plain": [
              "'1.26.4'"
            ],
            "application/vnd.google.colaboratory.intrinsic+json": {
              "type": "string"
            }
          },
          "metadata": {},
          "execution_count": 8
        }
      ]
    },
    {
      "cell_type": "markdown",
      "source": [
        "### Membuat Array dengan Numpy"
      ],
      "metadata": {
        "id": "jVSEqWp7Ynu5"
      }
    },
    {
      "cell_type": "markdown",
      "source": [
        "*   Objek array di NumPy disebut ndarray.\n",
        "*   Kita dapat membuat objek ndarray NumPy dengan menggunakan fungsi array().\n",
        "*   Dimensi dalam array adalah tingkat kedalaman array.\n",
        "\n"
      ],
      "metadata": {
        "id": "4sBaj9VYYr81"
      }
    },
    {
      "cell_type": "code",
      "source": [
        "# 1-D Array\n",
        "arr = np.array([1,2,3,4,5])\n",
        "print(arr)\n",
        "print(type(arr))\n",
        "print('Jumlah Dimensi :', arr.ndim)"
      ],
      "metadata": {
        "colab": {
          "base_uri": "https://localhost:8080/"
        },
        "id": "xnvfjljjYNwE",
        "outputId": "0e1d5d97-99d6-448e-9a60-54ef22bb9fd3"
      },
      "execution_count": 9,
      "outputs": [
        {
          "output_type": "stream",
          "name": "stdout",
          "text": [
            "[1 2 3 4 5]\n",
            "<class 'numpy.ndarray'>\n",
            "Jumlah Dimensi : 1\n"
          ]
        }
      ]
    },
    {
      "cell_type": "code",
      "source": [
        "# 2-D Array\n",
        "arr = np.array([[1,2,3], [4,5,6]])\n",
        "print(arr)\n",
        "print(type(arr))\n",
        "print('Jumlah Dimensi :', arr.ndim)\n",
        "print('Shape Array :', arr.shape)"
      ],
      "metadata": {
        "colab": {
          "base_uri": "https://localhost:8080/"
        },
        "id": "8cZ8XjBZYgTH",
        "outputId": "a56df53a-af60-4a11-dcc8-a7cc73ad0b55"
      },
      "execution_count": 14,
      "outputs": [
        {
          "output_type": "stream",
          "name": "stdout",
          "text": [
            "[[1 2 3]\n",
            " [4 5 6]]\n",
            "<class 'numpy.ndarray'>\n",
            "Jumlah Dimensi : 2\n",
            "Shape Array : (2, 3)\n"
          ]
        }
      ]
    },
    {
      "cell_type": "code",
      "source": [
        "# 3-D Array\n",
        "arr = np.array([[[1,2,3],[4,5,6]],\n",
        "                [[2,4,6],[8,10,12]]])\n",
        "print(arr)\n",
        "print(type(arr))\n",
        "print('Jumlah Dimensi :', arr.ndim)\n",
        "print('Shape Array :', arr.shape) # (Depth/Layer, Baris, Kolom)"
      ],
      "metadata": {
        "colab": {
          "base_uri": "https://localhost:8080/"
        },
        "id": "dJQBS9w3ZTuw",
        "outputId": "92af4c02-aca2-40f7-ff2f-2b0b33549262"
      },
      "execution_count": 17,
      "outputs": [
        {
          "output_type": "stream",
          "name": "stdout",
          "text": [
            "[[[ 1  2  3]\n",
            "  [ 4  5  6]]\n",
            "\n",
            " [[ 2  4  6]\n",
            "  [ 8 10 12]]]\n",
            "<class 'numpy.ndarray'>\n",
            "Jumlah Dimensi : 3\n",
            "Shape Array : (2, 2, 3)\n"
          ]
        }
      ]
    },
    {
      "cell_type": "markdown",
      "source": [
        "### **Quiz 3 Advance Python Foundation From Startup Campus**"
      ],
      "metadata": {
        "id": "55gtS6rMchIw"
      }
    },
    {
      "cell_type": "code",
      "source": [
        "import numpy as np\n",
        "\n",
        "original_array = np.array([1,2,3,4,5])\n",
        "squared_array = np.square(original_array)\n",
        "added_array = squared_array + 10\n",
        "subset_array = added_array[1:4]\n",
        "\n",
        "print(subset_array)"
      ],
      "metadata": {
        "colab": {
          "base_uri": "https://localhost:8080/"
        },
        "id": "dF98G-ObahLQ",
        "outputId": "db105534-c936-4f16-9689-e751952d0062"
      },
      "execution_count": 20,
      "outputs": [
        {
          "output_type": "stream",
          "name": "stdout",
          "text": [
            "[14 19 26]\n"
          ]
        }
      ]
    }
  ]
}